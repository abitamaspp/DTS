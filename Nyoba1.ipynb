{
  "nbformat": 4,
  "nbformat_minor": 0,
  "metadata": {
    "colab": {
      "name": "Nyoba1.ipynb",
      "provenance": [],
      "include_colab_link": true
    },
    "kernelspec": {
      "name": "python3",
      "display_name": "Python 3"
    }
  },
  "cells": [
    {
      "cell_type": "markdown",
      "metadata": {
        "id": "view-in-github",
        "colab_type": "text"
      },
      "source": [
        "<a href=\"https://colab.research.google.com/github/abitamaspp/DTS/blob/master/Nyoba1.ipynb\" target=\"_parent\"><img src=\"https://colab.research.google.com/assets/colab-badge.svg\" alt=\"Open In Colab\"/></a>"
      ]
    },
    {
      "cell_type": "code",
      "metadata": {
        "id": "pFYZkqv4sL5u",
        "colab_type": "code",
        "colab": {}
      },
      "source": [
        "i = input('Masukkan input : ')"
      ],
      "execution_count": 0,
      "outputs": []
    },
    {
      "cell_type": "code",
      "metadata": {
        "id": "Kp7zI7ZksXU4",
        "colab_type": "code",
        "colab": {}
      },
      "source": [
        "data = ['Halo', 'mblo']\n",
        "\n",
        "for i in data:\n",
        "  print(i)\n",
        "  print('----------')\n",
        "  for j in i:\n",
        "    print(j)"
      ],
      "execution_count": 0,
      "outputs": []
    },
    {
      "cell_type": "code",
      "metadata": {
        "id": "MMTQQx63t3M9",
        "colab_type": "code",
        "colab": {}
      },
      "source": [
        "for i in range(1,5):\n",
        "  for j in range(1,5):\n",
        "    print('x')\n",
        "  print()"
      ],
      "execution_count": 0,
      "outputs": []
    }
  ]
}